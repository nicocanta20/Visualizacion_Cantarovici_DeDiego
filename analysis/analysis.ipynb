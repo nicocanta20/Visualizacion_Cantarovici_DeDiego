{
 "cells": [
  {
   "cell_type": "code",
   "execution_count": 2,
   "metadata": {},
   "outputs": [],
   "source": [
    "import pandas as pd"
   ]
  },
  {
   "attachments": {},
   "cell_type": "markdown",
   "metadata": {},
   "source": [
    "# GRAPH 1 - MAP"
   ]
  },
  {
   "cell_type": "code",
   "execution_count": 2,
   "metadata": {},
   "outputs": [],
   "source": [
    "\n",
    "data = pd.read_csv('../data/147_desratizacion.csv', delimiter=';')\n",
    "df_base = data[['domicilio_barrio', 'fecha_ingreso']]\n",
    "# if the month is 11 drop it\n",
    "df_base = df_base[df_base['fecha_ingreso'].str.contains('/11/') == False]\n",
    "# make a df that has the domicilio_barrio and other column with quantity of appearances on df_base\n",
    "df = df_base.groupby('domicilio_barrio').size().reset_index(name='counts')\n",
    "others_count = df.loc[df['counts'] < 78, 'counts'].sum()\n",
    "\n",
    "df['domicilio_barrio'] = df['domicilio_barrio'].apply(lambda x: x.upper())\n",
    "\n",
    "# save df to ratas_clean.csv\n",
    "df.to_csv('../data/map_ratas.csv', index=False)"
   ]
  },
  {
   "attachments": {},
   "cell_type": "markdown",
   "metadata": {},
   "source": [
    "# GRAPH 2 - RANKING"
   ]
  },
  {
   "cell_type": "code",
   "execution_count": 3,
   "metadata": {},
   "outputs": [],
   "source": [
    "# get the ranking barrios with the most complaints. make a new df with columns of the months. the rows will be domicilio_barrio. the values of the cells will be the number of complaints for that month\n",
    "# read in the data\n",
    "df = df_base.copy()\n",
    "\n",
    "# convert fecha_ingreso to a datetime object\n",
    "df['fecha_ingreso'] = pd.to_datetime(df['fecha_ingreso'], format='%d/%m/%Y')\n",
    "\n",
    "# extract the month from the date and create a new column\n",
    "df['month'] = df['fecha_ingreso'].dt.month\n",
    "\n",
    "# group the data by domicilio_barrio and month, and count the number of complaints\n",
    "complaints_by_barrio_month = df.groupby(['domicilio_barrio', 'month']).size().reset_index(name='complaints')\n",
    "# drop month 11\n",
    "complaints_by_barrio_month = complaints_by_barrio_month[complaints_by_barrio_month['month'] != 11]\n",
    "\n",
    "# create a pivot table to transform the data into the desired format\n",
    "complaints_by_barrio_month_pivot = complaints_by_barrio_month.pivot(index='domicilio_barrio', columns='month', values='complaints')\n",
    "\n",
    "# add a column to sum the total number of complaints for each barrio\n",
    "complaints_by_barrio_month_pivot['total_complaints'] = complaints_by_barrio_month_pivot.sum(axis=1).astype(int)\n",
    "\n",
    "# get the ranking of barrios with the most complaints\n",
    "ranking_barrios = complaints_by_barrio_month_pivot.sort_values(by='total_complaints', ascending=False)\n",
    "\n",
    "# drop the total_complaints column\n",
    "ranking_barrios = ranking_barrios.drop(columns=['total_complaints'])\n",
    "\n",
    "# replace month 1 to january, 2 to february, etc.\n",
    "ranking_barrios = ranking_barrios.rename(columns={1: 'January', 2: 'February', 3: 'March', 4: 'April', 5: 'May'})\n",
    "\n",
    "# replace NaN values with 0\n",
    "ranking_barrios = ranking_barrios.fillna(0)\n",
    "# make all values from each month int\n",
    "ranking_barrios = ranking_barrios.astype(int)\n",
    "\n",
    "#get only the top 5 barrios\n",
    "ranking_barrios = ranking_barrios.head(5)\n",
    "\n",
    "# print(ranking_barrios)\n",
    "# save the ranking\n",
    "ranking_barrios.to_csv('../data/ranking_barrios.csv')\n"
   ]
  },
  {
   "attachments": {},
   "cell_type": "markdown",
   "metadata": {},
   "source": [
    "# GRAPH 3 - DONUT\n"
   ]
  },
  {
   "cell_type": "code",
   "execution_count": 5,
   "metadata": {},
   "outputs": [],
   "source": [
    "# read ../data/rata_clean_total.csv\n",
    "df = pd.read_csv('../data/map_ratas.csv')\n",
    "\n",
    "# add a new row to the dataframe with the sum of counts for domicilio_barrio with count less than 150\n",
    "    \n",
    "df.loc[len(df)] = ['Otros', others_count]\n",
    "\n",
    "# drop the rows with count less than 78\n",
    "df = df[df['counts'] >= 78]\n",
    "\n",
    "# save df to map_ratas.csv\n",
    "df.to_csv('../data/rata_clean.csv', index=False)\n",
    "\n"
   ]
  },
  {
   "attachments": {},
   "cell_type": "markdown",
   "metadata": {},
   "source": [
    "# map with normalized data with population\n"
   ]
  },
  {
   "cell_type": "code",
   "execution_count": 4,
   "metadata": {},
   "outputs": [],
   "source": [
    "# get map_ratas.csv\n",
    "df = pd.read_csv('../data/map_ratas.csv')\n",
    "\n",
    "# get the population of each barrio, the data is in ../data/caba_pob_barrios_2010.csv\n",
    "df_pob = pd.read_csv('../data/caba_pob_barrios_2010.csv')\n",
    "\n",
    "# get the column POBLACION from df_pob and add it to df with its corresponding domicilio_barrio\n",
    "df['pob'] = df['domicilio_barrio'].map(df_pob.set_index('BARRIO')['POBLACION'])\n",
    "\n",
    "# calculate the ratio of complaints per 1000 people\n",
    "df['ratio'] = df['counts'] / df['pob'] * 1000\n",
    "\n",
    "# save df to map_ratas_normalized.csv\n",
    "df.to_csv('../data/map_ratas_normalized.csv', index=False)\n",
    "\n",
    "\n",
    "\n",
    "\n"
   ]
  }
 ],
 "metadata": {
  "kernelspec": {
   "display_name": "Python 3",
   "language": "python",
   "name": "python3"
  },
  "language_info": {
   "codemirror_mode": {
    "name": "ipython",
    "version": 3
   },
   "file_extension": ".py",
   "mimetype": "text/x-python",
   "name": "python",
   "nbconvert_exporter": "python",
   "pygments_lexer": "ipython3",
   "version": "3.10.4"
  },
  "orig_nbformat": 4
 },
 "nbformat": 4,
 "nbformat_minor": 2
}
